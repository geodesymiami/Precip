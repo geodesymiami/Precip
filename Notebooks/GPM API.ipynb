{
 "cells": [
  {
   "cell_type": "code",
   "execution_count": 1,
   "id": "64f407a9",
   "metadata": {},
   "outputs": [],
   "source": [
    "import requests\n",
    "from bs4 import BeautifulSoup \n",
    "import pandas as pd\n",
    "\n",
    "website = 'https://apdrc.soest.hawaii.edu/erddap/griddap/hawaii_soest_85a4_81b2_7f69.html'"
   ]
  },
  {
   "cell_type": "code",
   "execution_count": null,
   "id": "58ec2c12",
   "metadata": {},
   "outputs": [],
   "source": [
    "def create_prec_url(start_date, end_date, latitude, longitude):\n",
    "    \n",
    "    url = 'https://apdrc.soest.hawaii.edu/erddap/griddap/hawaii_soest_85a4_81b2_7f69.htmlTable?'\n",
    "    \n",
    "    string = f'prec[({start_date}):1:({end_date})][({latitude}):1:({latitude})][({longitude}):1:({longitude})]'\n",
    "    \n",
    "    url = url + string\n",
    "    \n",
    "    return url"
   ]
  },
  {
   "cell_type": "code",
   "execution_count": null,
   "id": "8f8081dc",
   "metadata": {},
   "outputs": [],
   "source": [
    "def extract_prec(start_date, end_date, latitude, longitude):\n",
    "    \n",
    "    res = {}\n",
    "    df = pd.DataFrame()\n",
    "    precipitations = []  \n",
    "    date_list = pd.date_range(start = start_date,end = end_date).date\n",
    "    \n",
    "    url = create_prec_url(start_date, end_date, latitude, longitude)\n",
    "    \n",
    "    r = requests.get(url)\n",
    "\n",
    "    html = BeautifulSoup(r.text, 'html.parser')\n",
    "\n",
    "    # Extract specific node values (for example, extracting all table data)\n",
    "    table_rows = html.find_all('tr')\n",
    "    \n",
    "    for row in table_rows:\n",
    "    \n",
    "        cells = row.find_all('td')\n",
    "        if len(cells) >= 4:\n",
    "\n",
    "            precipitations.append(cells[3].text.strip())\n",
    "            \n",
    "    for date in date_list:\n",
    "        for value in precipitations:\n",
    "            res[date] = value\n",
    "            precipitations.remove(value)\n",
    "            break\n",
    "    \n",
    "    df = pd.DataFrame(res.items(), columns=['Date', 'Precipitation'])\n",
    "    \n",
    "    return df"
   ]
  },
  {
   "cell_type": "code",
   "execution_count": null,
   "id": "baf8e13b",
   "metadata": {},
   "outputs": [],
   "source": [
    "data = extract_prec('2021-07-01', '2021-08-01', '-41.95', '-7.95')\n",
    "\n",
    "print(data)"
   ]
  },
  {
   "cell_type": "code",
   "execution_count": null,
   "id": "4e3c2739",
   "metadata": {},
   "outputs": [],
   "source": []
  },
  {
   "cell_type": "code",
   "execution_count": null,
   "id": "40590b3c",
   "metadata": {},
   "outputs": [],
   "source": []
  },
  {
   "cell_type": "code",
   "execution_count": null,
   "id": "ff6343fb",
   "metadata": {},
   "outputs": [],
   "source": []
  },
  {
   "cell_type": "code",
   "execution_count": null,
   "id": "899b06e6",
   "metadata": {},
   "outputs": [],
   "source": [
    "url = (create_prec_url('2021-07-01', '2021-08-01', '-41.95', '-7.95'))\n",
    "\n",
    "r = requests.get(url)\n",
    "\n",
    "html = BeautifulSoup(r.text, 'html.parser')\n",
    "\n",
    "# EXTRACT OTHER DATA BESIDE PRECIPITATION\n",
    "\n",
    "table_rows = html.find_all('tr')\n",
    "for row in table_rows:\n",
    "    cells = row.find_all('td')\n",
    "    if len(cells) >= 4:\n",
    "        \n",
    "        print(cells[3].text.strip())\n",
    "#         sav = cells[3].text.strip()\n",
    "#         rem = cells[4].text.strip()\n",
    "        \n",
    "#         new_string = sav.replace(rem, '')\n",
    "        \n",
    "#         print(new_string)"
   ]
  },
  {
   "cell_type": "code",
   "execution_count": null,
   "id": "686b053f",
   "metadata": {},
   "outputs": [],
   "source": []
  },
  {
   "cell_type": "code",
   "execution_count": null,
   "id": "5f103597",
   "metadata": {},
   "outputs": [],
   "source": []
  },
  {
   "cell_type": "code",
   "execution_count": 18,
   "id": "e8b5a8dd",
   "metadata": {},
   "outputs": [
    {
     "name": "stdout",
     "output_type": "stream",
     "text": [
      "{'msg': 'No imagery for specified date.', 'service_version': 'v5000'}\n"
     ]
    }
   ],
   "source": [
    "import requests\n",
    "\n",
    "# Define the coordinates\n",
    "latitude = 40.7128\n",
    "longitude = -74.0060\n",
    "\n",
    "# Send the request\n",
    "response = requests.get(f\"https://api.nasa.gov/planetary/earth/assets?lon={longitude}&lat={latitude}&date=2023-12-01&api_key={api}\")\n",
    "\n",
    "# Print the response\n",
    "print(response.json())\n"
   ]
  },
  {
   "cell_type": "code",
   "execution_count": null,
   "id": "b7b8084e",
   "metadata": {},
   "outputs": [],
   "source": []
  }
 ],
 "metadata": {
  "kernelspec": {
   "display_name": "Python 3 (ipykernel)",
   "language": "python",
   "name": "python3"
  },
  "language_info": {
   "codemirror_mode": {
    "name": "ipython",
    "version": 3
   },
   "file_extension": ".py",
   "mimetype": "text/x-python",
   "name": "python",
   "nbconvert_exporter": "python",
   "pygments_lexer": "ipython3",
   "version": "3.11.5"
  }
 },
 "nbformat": 4,
 "nbformat_minor": 5
}
